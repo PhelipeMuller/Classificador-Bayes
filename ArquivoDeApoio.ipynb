{
 "cells": [
  {
   "cell_type": "markdown",
   "metadata": {},
   "source": [
    "# Atenção este NÃO é o arquivo principal do projeto, por favor iniciem suas analises pelo arquivo principal: ArquivoPrincipal.ipnynb"
   ]
  },
  {
   "cell_type": "markdown",
   "metadata": {},
   "source": [
    "___\n",
    "\n",
    "## Preparando o ambiente"
   ]
  },
  {
   "cell_type": "markdown",
   "metadata": {},
   "source": [
    "Importando as Bibliotecas que serão utilizadas. Esteja livre para adicionar outras."
   ]
  },
  {
   "cell_type": "code",
   "execution_count": 2,
   "metadata": {
    "collapsed": true
   },
   "outputs": [],
   "source": [
    "%%capture\n",
    "import tweepy\n",
    "import math\n",
    "import os.path\n",
    "import pandas as pd\n",
    "import json\n",
    "from random import shuffle"
   ]
  },
  {
   "cell_type": "markdown",
   "metadata": {},
   "source": [
    "___\n",
    "## Montando o Classificador Naive-Bayes"
   ]
  },
  {
   "cell_type": "code",
   "execution_count": 3,
   "metadata": {},
   "outputs": [],
   "source": [
    "produto = 'RedBull'\n",
    "n = 500\n",
    "t = 300\n",
    "\n",
    "readerTrain = pd.read_excel('{0}.xlsx'.format(produto))\n",
    "readerTest = pd.read_excel('{0}.xlsx'.format(produto),sheetname = 'Teste')\n",
    "train = []\n",
    "test = []\n",
    "\n",
    "for i in range(0,t):\n",
    "    train.append([readerTrain['Treinamento'][i], readerTrain['Util'][i]])\n",
    "\n",
    "for i in range(0,n-t):\n",
    "    test.append([readerTest['Teste'][i],readerTest['Util'][i]])\n",
    "    "
   ]
  },
  {
   "cell_type": "code",
   "execution_count": 4,
   "metadata": {
    "collapsed": true
   },
   "outputs": [],
   "source": [
    "def multiply(n):\n",
    "    total = 1\n",
    "    for i in range(0, len(n)):\n",
    "        total *= n[i]\n",
    "    return total"
   ]
  },
  {
   "cell_type": "code",
   "execution_count": 5,
   "metadata": {
    "collapsed": true
   },
   "outputs": [],
   "source": [
    "class NaiveBayes:\n",
    "    def __init__(self):\n",
    "        self.YesFreq = 0\n",
    "        self.NoFreq = 0\n",
    "        self.WordFreqList = [[\"redbull\",0,0]]\n",
    "                            #[Palavra, FreqNo, FreqYes]\n",
    "        self.TotalWord = [1,0,0]\n",
    "                            #Palavra, FreqNo, FreqYes\n",
    "        self.CatProb = [0,0]\n",
    "        \n",
    "    def train(self,train):\n",
    "        for tweet in train:\n",
    "            if tweet[1]: self.YesFreq+=1 #1 = Coluna Util\n",
    "            else: self.NoFreq+=1\n",
    "            tweet[0] = self.normalizeTweet(tweet[0])#0 = Coluna Treinamento\n",
    "            WordList = tweet[0].split(' ') #0 = Coluna Treinamento\n",
    "            for word in WordList:\n",
    "                onList = False\n",
    "                for freq in self.WordFreqList:\n",
    "                    if word == freq[0]:\n",
    "                        onList = True\n",
    "                        if tweet[1]: \n",
    "                            freq[2]+=1 #1 = Coluna Util\n",
    "                            self.TotalWord[2]+=1\n",
    "                        else: \n",
    "                            freq[1]+=1\n",
    "                            self.TotalWord[1]+=1\n",
    "                \n",
    "                if not onList:\n",
    "                    self.TotalWord[0]+=1\n",
    "                    if tweet[1]: self.WordFreqList.append([word,0,1]) #1 - Coluna Util\n",
    "                    else: self.WordFreqList.append([word,1,0])\n",
    "        CatProb[0] = self.YesFreq/300\n",
    "        CatProb[1] = self.NoFreq/300\n",
    "        return 0\n",
    "    \n",
    "    def test(self, test):\n",
    "        acertoTotal = 0 \n",
    "        erroTotal = 0\n",
    "        acertoRelevante = 0\n",
    "        erroRelevante = 0\n",
    "        acertoIrrelevante = 0\n",
    "        erroIrrelevante = 0\n",
    "        for tweet in test:\n",
    "            if self.analyze(tweet)==tweet[1]:\n",
    "                acertoTotal+=1\n",
    "                if tweet[1]: acertoRelevante+=1\n",
    "                else: acertoIrrelevante+=1\n",
    "            else:\n",
    "                erroTotal+=1\n",
    "                if tweet[1]: erroRelevante+=1\n",
    "                else: erroIrrelevante+=1\n",
    "        print(\"Positivo Falso: \" + str((erroRelevante/(n-t))*100)+\"%\")\n",
    "        print(\"Positivo Verdadeiro: \" + str((acertoRelevante/(n-t))*100)+\"%\")\n",
    "        print(\"Negativo Falso: \" + str((erroIrrelevante/(n-t))*100)+\"%\")\n",
    "        print(\"Negativo Verdadeiro: \" + str((acertoIrrelevante/(n-t))*100)+\"%\")\n",
    "        \n",
    "        print()\n",
    "\n",
    "        print(\"Acerto: \" + str(((acertoIrrelevante+acertoRelevante)/(n-t))*100)+\"%\")\n",
    "        print(\"Erro: \"  + str(((erroIrrelevante+erroRelevante)/(n-t))*100)+\"%\")\n",
    "\n",
    "        print()\n",
    "\n",
    "        print(\"Total: \" + str(((erroIrrelevante+erroRelevante+acertoIrrelevante+acertoRelevante)/(n-t))*100)+\"%\")\n",
    "             \n",
    "    \n",
    "    def analyze(self,tweet):\n",
    "        tweet[0] = self.normalizeTweet(tweet[0])#0 = Coluna Treinamento\n",
    "        WordList = tweet[0].split(' ') #0 = Coluna Treinamento\n",
    "        relevancia = [] #acho que nao ta sendo usado\n",
    "        probWord = []\n",
    "        for word in WordList:\n",
    "            onList = False\n",
    "            for freq in self.WordFreqList:\n",
    "                if word == freq[0]:\n",
    "                    onList = True\n",
    "                    probNo = (freq[1]+1)/(self.TotalWord[1]+self.TotalWord[0])\n",
    "                    probYes = (freq[2]+1)/(self.TotalWord[2]+self.TotalWord[0])\n",
    "                    probTotal = (freq[1]+freq[2]+1)/self.TotalWord[0]\n",
    "                    probWord.append([probTotal,probNo,probYes])\n",
    "                    \n",
    "            if not onList:\n",
    "                probWord.append([1/self.TotalWord[0],1/self.TotalWord[1],1/self.TotalWord[2]])\n",
    "        \n",
    "        probTweet = (multiply(probWord[:][1])*self.CatProb[0],multiply(probWord[:][2]))*self.CatProb[1]\n",
    "        if((probTweet[0]>probTweet[1])): return 1\n",
    "        else: return 0\n",
    " \n",
    "    def normalizeTweet(self,tweet):\n",
    "        tweet.lower()\n",
    "        tweet = tweet.replace(',',' ')\n",
    "        tweet = tweet.replace('!',' ')\n",
    "        tweet = tweet.replace('$',' ')\n",
    "        tweet = tweet.replace('%',' ')\n",
    "        tweet = tweet.replace('&',' ')\n",
    "        tweet = tweet.replace('*',' ')\n",
    "        tweet = tweet.replace('(',' ')\n",
    "        tweet = tweet.replace(')',' ')\n",
    "        tweet = tweet.replace('-',' ')\n",
    "        tweet = tweet.replace('+',' ')\n",
    "        tweet = tweet.replace('=',' ')\n",
    "        tweet = tweet.replace('_',' ')\n",
    "        tweet = tweet.replace('.',' ')\n",
    "        tweet = tweet.replace(':',' ')\n",
    "        tweet = tweet.replace(';',' ')\n",
    "        tweet = tweet.replace('?',' ')\n",
    "        tweet = tweet.replace('/',' ')\n",
    "        tweet = tweet.replace('\\n',' ')\n",
    "        for i in range(0,4): tweet = tweet.replace('  ',' ')\n",
    "        return tweet\n",
    "                              \n",
    "    def show(self):\n",
    "        print(\"SIMs: \" + str(self.YesFreq))\n",
    "        print(\"NÃOs: \" + str(self.NoFreq))\n",
    "        print(\"TOTAL: \" + str(self.YesFreq+self.NoFreq))\n",
    "    \n",
    "    def showAll(self):\n",
    "        print(self.WordFreqList)\n",
    "        print()\n",
    "        print(\"SIMs: \" + str(self.YesFreq))\n",
    "        print(\"NÃOs: \" + str(self.NoFreq))\n",
    "        print(\"TOTAL: \" + str(self.YesFreq+self.NoFreq))\n",
    "        \n"
   ]
  },
  {
   "cell_type": "code",
   "execution_count": 6,
   "metadata": {
    "scrolled": false
   },
   "outputs": [
    {
     "ename": "NameError",
     "evalue": "name 'CatProb' is not defined",
     "output_type": "error",
     "traceback": [
      "\u001b[0;31m---------------------------------------------------------------------------\u001b[0m",
      "\u001b[0;31mNameError\u001b[0m                                 Traceback (most recent call last)",
      "\u001b[0;32m<ipython-input-6-1a5a39c87783>\u001b[0m in \u001b[0;36m<module>\u001b[0;34m()\u001b[0m\n\u001b[1;32m      1\u001b[0m \u001b[0mClassificador\u001b[0m \u001b[1;33m=\u001b[0m \u001b[0mNaiveBayes\u001b[0m\u001b[1;33m(\u001b[0m\u001b[1;33m)\u001b[0m\u001b[1;33m\u001b[0m\u001b[0m\n\u001b[0;32m----> 2\u001b[0;31m \u001b[0mClassificador\u001b[0m\u001b[1;33m.\u001b[0m\u001b[0mtrain\u001b[0m\u001b[1;33m(\u001b[0m\u001b[0mtrain\u001b[0m\u001b[1;33m)\u001b[0m\u001b[1;33m\u001b[0m\u001b[0m\n\u001b[0m\u001b[1;32m      3\u001b[0m \u001b[0mClassificador\u001b[0m\u001b[1;33m.\u001b[0m\u001b[0mtest\u001b[0m\u001b[1;33m(\u001b[0m\u001b[0mtest\u001b[0m\u001b[1;33m)\u001b[0m\u001b[1;33m\u001b[0m\u001b[0m\n",
      "\u001b[0;32m<ipython-input-5-18d9ce7020e7>\u001b[0m in \u001b[0;36mtrain\u001b[0;34m(self, train)\u001b[0m\n\u001b[1;32m     31\u001b[0m                     \u001b[1;32mif\u001b[0m \u001b[0mtweet\u001b[0m\u001b[1;33m[\u001b[0m\u001b[1;36m1\u001b[0m\u001b[1;33m]\u001b[0m\u001b[1;33m:\u001b[0m \u001b[0mself\u001b[0m\u001b[1;33m.\u001b[0m\u001b[0mWordFreqList\u001b[0m\u001b[1;33m.\u001b[0m\u001b[0mappend\u001b[0m\u001b[1;33m(\u001b[0m\u001b[1;33m[\u001b[0m\u001b[0mword\u001b[0m\u001b[1;33m,\u001b[0m\u001b[1;36m0\u001b[0m\u001b[1;33m,\u001b[0m\u001b[1;36m1\u001b[0m\u001b[1;33m]\u001b[0m\u001b[1;33m)\u001b[0m \u001b[1;31m#1 - Coluna Util\u001b[0m\u001b[1;33m\u001b[0m\u001b[0m\n\u001b[1;32m     32\u001b[0m                     \u001b[1;32melse\u001b[0m\u001b[1;33m:\u001b[0m \u001b[0mself\u001b[0m\u001b[1;33m.\u001b[0m\u001b[0mWordFreqList\u001b[0m\u001b[1;33m.\u001b[0m\u001b[0mappend\u001b[0m\u001b[1;33m(\u001b[0m\u001b[1;33m[\u001b[0m\u001b[0mword\u001b[0m\u001b[1;33m,\u001b[0m\u001b[1;36m1\u001b[0m\u001b[1;33m,\u001b[0m\u001b[1;36m0\u001b[0m\u001b[1;33m]\u001b[0m\u001b[1;33m)\u001b[0m\u001b[1;33m\u001b[0m\u001b[0m\n\u001b[0;32m---> 33\u001b[0;31m         \u001b[0mCatProb\u001b[0m\u001b[1;33m[\u001b[0m\u001b[1;36m0\u001b[0m\u001b[1;33m]\u001b[0m \u001b[1;33m=\u001b[0m \u001b[0mself\u001b[0m\u001b[1;33m.\u001b[0m\u001b[0mYesFreq\u001b[0m\u001b[1;33m/\u001b[0m\u001b[1;36m300\u001b[0m\u001b[1;33m\u001b[0m\u001b[0m\n\u001b[0m\u001b[1;32m     34\u001b[0m         \u001b[0mCatProb\u001b[0m\u001b[1;33m[\u001b[0m\u001b[1;36m1\u001b[0m\u001b[1;33m]\u001b[0m \u001b[1;33m=\u001b[0m \u001b[0mself\u001b[0m\u001b[1;33m.\u001b[0m\u001b[0mNoFreq\u001b[0m\u001b[1;33m/\u001b[0m\u001b[1;36m300\u001b[0m\u001b[1;33m\u001b[0m\u001b[0m\n\u001b[1;32m     35\u001b[0m         \u001b[1;32mreturn\u001b[0m \u001b[1;36m0\u001b[0m\u001b[1;33m\u001b[0m\u001b[0m\n",
      "\u001b[0;31mNameError\u001b[0m: name 'CatProb' is not defined"
     ]
    }
   ],
   "source": [
    "Classificador = NaiveBayes()\n",
    "Classificador.train(train)\n",
    "Classificador.test(test)"
   ]
  },
  {
   "cell_type": "markdown",
   "metadata": {
    "collapsed": true
   },
   "source": [
    "Assim como dito no arquivo principal, o Classficador classificou com maior frequencia a categoria que teve maior incidencia durante a banda de treinos, porem aqui isso mostrou um resultado bem melhor"
   ]
  }
 ],
 "metadata": {
  "kernelspec": {
   "display_name": "Python 3",
   "language": "python",
   "name": "python3"
  },
  "language_info": {
   "codemirror_mode": {
    "name": "ipython",
    "version": 3
   },
   "file_extension": ".py",
   "mimetype": "text/x-python",
   "name": "python",
   "nbconvert_exporter": "python",
   "pygments_lexer": "ipython3",
   "version": "3.6.0"
  }
 },
 "nbformat": 4,
 "nbformat_minor": 1
}
